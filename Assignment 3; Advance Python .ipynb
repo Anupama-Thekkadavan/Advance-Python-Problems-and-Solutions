{
 "cells": [
  {
   "cell_type": "markdown",
   "id": "ee983fb9-85bc-4911-b798-c4ccfe2f1df8",
   "metadata": {},
   "source": [
    "<b>Use following sentences to find the tf*idf vectorized data.<b>"
   ]
  },
  {
   "cell_type": "markdown",
   "id": "d7e86cb3-a09a-448e-ae47-5d71851a79d3",
   "metadata": {},
   "source": [
    "1. The postman delivered the package to the wrong address.\n",
    "2. I wrapped a beautiful present for my friend's birthday.\r\n",
    "3. The delivery truck arrived late due to heavy traffic.\r\n",
    "4. We need to check the shipping address before sending the order.\r\n",
    "5. Online shopping offers a wide variety of products with fast delivery."
   ]
  },
  {
   "cell_type": "code",
   "execution_count": 1,
   "id": "cd3834e3-b7f8-4603-867f-d9092f24ee52",
   "metadata": {},
   "outputs": [],
   "source": [
    "from sklearn.feature_extraction.text import TfidfVectorizer\n",
    "\n",
    "tfidf = TfidfVectorizer()"
   ]
  },
  {
   "cell_type": "code",
   "execution_count": 2,
   "id": "f5066107-c1bc-4bc0-82dc-9397fc74d5da",
   "metadata": {},
   "outputs": [],
   "source": [
    "sent1 = \"The postman delivered the package to the wrong address.\"\n",
    "sent2 = \"I wrapped a beautiful present for my friend's birthday.\"\n",
    "sent3 = \"The delivery truck arrived late due to heavy traffic.\"\n",
    "sent4 = \"We need to check the shipping address before sending the order.\"\n",
    "sent5 = \"Online shopping offers a wide variety of products with fast delivery.\""
   ]
  },
  {
   "cell_type": "code",
   "execution_count": 3,
   "id": "a696134c-074d-48bf-bb07-a9e2cac73ff9",
   "metadata": {},
   "outputs": [],
   "source": [
    "data = tfidf.fit_transform([sent1, sent2, sent3, sent4, sent5])"
   ]
  },
  {
   "cell_type": "code",
   "execution_count": 4,
   "id": "f03e1b54-0251-4a42-ae81-406b54b6cb0c",
   "metadata": {},
   "outputs": [
    {
     "data": {
      "text/plain": [
       "array([[0.26692128, 0.        , 0.        , 0.        , 0.        ,\n",
       "        0.        , 0.33084204, 0.        , 0.        , 0.        ,\n",
       "        0.        , 0.        , 0.        , 0.        , 0.        ,\n",
       "        0.        , 0.        , 0.        , 0.        , 0.        ,\n",
       "        0.33084204, 0.33084204, 0.        , 0.        , 0.        ,\n",
       "        0.        , 0.        , 0.66470631, 0.22156877, 0.        ,\n",
       "        0.        , 0.        , 0.        , 0.        , 0.        ,\n",
       "        0.        , 0.33084204],\n",
       "       [0.        , 0.        , 0.37796447, 0.        , 0.37796447,\n",
       "        0.        , 0.        , 0.        , 0.        , 0.        ,\n",
       "        0.37796447, 0.37796447, 0.        , 0.        , 0.37796447,\n",
       "        0.        , 0.        , 0.        , 0.        , 0.        ,\n",
       "        0.        , 0.        , 0.37796447, 0.        , 0.        ,\n",
       "        0.        , 0.        , 0.        , 0.        , 0.        ,\n",
       "        0.        , 0.        , 0.        , 0.        , 0.        ,\n",
       "        0.37796447, 0.        ],\n",
       "       [0.        , 0.36398684, 0.        , 0.        , 0.        ,\n",
       "        0.        , 0.        , 0.29366229, 0.36398684, 0.        ,\n",
       "        0.        , 0.        , 0.36398684, 0.36398684, 0.        ,\n",
       "        0.        , 0.        , 0.        , 0.        , 0.        ,\n",
       "        0.        , 0.        , 0.        , 0.        , 0.        ,\n",
       "        0.        , 0.        , 0.24376623, 0.24376623, 0.36398684,\n",
       "        0.36398684, 0.        , 0.        , 0.        , 0.        ,\n",
       "        0.        , 0.        ],\n",
       "       [0.25650029, 0.        , 0.        , 0.3179255 , 0.        ,\n",
       "        0.3179255 , 0.        , 0.        , 0.        , 0.        ,\n",
       "        0.        , 0.        , 0.        , 0.        , 0.        ,\n",
       "        0.3179255 , 0.        , 0.        , 0.        , 0.3179255 ,\n",
       "        0.        , 0.        , 0.        , 0.        , 0.3179255 ,\n",
       "        0.3179255 , 0.        , 0.42583682, 0.21291841, 0.        ,\n",
       "        0.        , 0.        , 0.3179255 , 0.        , 0.        ,\n",
       "        0.        , 0.        ],\n",
       "       [0.        , 0.        , 0.        , 0.        , 0.        ,\n",
       "        0.        , 0.        , 0.25970376, 0.        , 0.32189611,\n",
       "        0.        , 0.        , 0.        , 0.        , 0.        ,\n",
       "        0.        , 0.32189611, 0.32189611, 0.32189611, 0.        ,\n",
       "        0.        , 0.        , 0.        , 0.32189611, 0.        ,\n",
       "        0.        , 0.32189611, 0.        , 0.        , 0.        ,\n",
       "        0.        , 0.32189611, 0.        , 0.32189611, 0.32189611,\n",
       "        0.        , 0.        ]])"
      ]
     },
     "execution_count": 4,
     "metadata": {},
     "output_type": "execute_result"
    }
   ],
   "source": [
    "data.toarray()"
   ]
  },
  {
   "cell_type": "code",
   "execution_count": 5,
   "id": "822675f2-436a-4764-ad34-5a5801cae00a",
   "metadata": {},
   "outputs": [
    {
     "data": {
      "text/plain": [
       "array(['address', 'arrived', 'beautiful', 'before', 'birthday', 'check',\n",
       "       'delivered', 'delivery', 'due', 'fast', 'for', 'friend', 'heavy',\n",
       "       'late', 'my', 'need', 'of', 'offers', 'online', 'order', 'package',\n",
       "       'postman', 'present', 'products', 'sending', 'shipping',\n",
       "       'shopping', 'the', 'to', 'traffic', 'truck', 'variety', 'we',\n",
       "       'wide', 'with', 'wrapped', 'wrong'], dtype=object)"
      ]
     },
     "execution_count": 5,
     "metadata": {},
     "output_type": "execute_result"
    }
   ],
   "source": [
    "tfidf.get_feature_names_out()"
   ]
  },
  {
   "cell_type": "code",
   "execution_count": 6,
   "id": "2f94aa94-5942-4a11-af07-b0cd520d48bb",
   "metadata": {},
   "outputs": [],
   "source": [
    "import pandas as pd"
   ]
  },
  {
   "cell_type": "code",
   "execution_count": 7,
   "id": "5f0efc3b-5204-4863-8d02-c92e2d6ba8ac",
   "metadata": {},
   "outputs": [],
   "source": [
    "df = pd.DataFrame(data=data.toarray(),\n",
    "                  columns=tfidf.get_feature_names_out())"
   ]
  },
  {
   "cell_type": "code",
   "execution_count": 8,
   "id": "c2fadf50-fe5e-46b5-9145-7607f8124f47",
   "metadata": {},
   "outputs": [
    {
     "data": {
      "text/html": [
       "<div>\n",
       "<style scoped>\n",
       "    .dataframe tbody tr th:only-of-type {\n",
       "        vertical-align: middle;\n",
       "    }\n",
       "\n",
       "    .dataframe tbody tr th {\n",
       "        vertical-align: top;\n",
       "    }\n",
       "\n",
       "    .dataframe thead th {\n",
       "        text-align: right;\n",
       "    }\n",
       "</style>\n",
       "<table border=\"1\" class=\"dataframe\">\n",
       "  <thead>\n",
       "    <tr style=\"text-align: right;\">\n",
       "      <th></th>\n",
       "      <th>address</th>\n",
       "      <th>arrived</th>\n",
       "      <th>beautiful</th>\n",
       "      <th>before</th>\n",
       "      <th>birthday</th>\n",
       "      <th>check</th>\n",
       "      <th>delivered</th>\n",
       "      <th>delivery</th>\n",
       "      <th>due</th>\n",
       "      <th>fast</th>\n",
       "      <th>...</th>\n",
       "      <th>the</th>\n",
       "      <th>to</th>\n",
       "      <th>traffic</th>\n",
       "      <th>truck</th>\n",
       "      <th>variety</th>\n",
       "      <th>we</th>\n",
       "      <th>wide</th>\n",
       "      <th>with</th>\n",
       "      <th>wrapped</th>\n",
       "      <th>wrong</th>\n",
       "    </tr>\n",
       "  </thead>\n",
       "  <tbody>\n",
       "    <tr>\n",
       "      <th>0</th>\n",
       "      <td>0.266921</td>\n",
       "      <td>0.000000</td>\n",
       "      <td>0.000000</td>\n",
       "      <td>0.000000</td>\n",
       "      <td>0.000000</td>\n",
       "      <td>0.000000</td>\n",
       "      <td>0.330842</td>\n",
       "      <td>0.000000</td>\n",
       "      <td>0.000000</td>\n",
       "      <td>0.000000</td>\n",
       "      <td>...</td>\n",
       "      <td>0.664706</td>\n",
       "      <td>0.221569</td>\n",
       "      <td>0.000000</td>\n",
       "      <td>0.000000</td>\n",
       "      <td>0.000000</td>\n",
       "      <td>0.000000</td>\n",
       "      <td>0.000000</td>\n",
       "      <td>0.000000</td>\n",
       "      <td>0.000000</td>\n",
       "      <td>0.330842</td>\n",
       "    </tr>\n",
       "    <tr>\n",
       "      <th>1</th>\n",
       "      <td>0.000000</td>\n",
       "      <td>0.000000</td>\n",
       "      <td>0.377964</td>\n",
       "      <td>0.000000</td>\n",
       "      <td>0.377964</td>\n",
       "      <td>0.000000</td>\n",
       "      <td>0.000000</td>\n",
       "      <td>0.000000</td>\n",
       "      <td>0.000000</td>\n",
       "      <td>0.000000</td>\n",
       "      <td>...</td>\n",
       "      <td>0.000000</td>\n",
       "      <td>0.000000</td>\n",
       "      <td>0.000000</td>\n",
       "      <td>0.000000</td>\n",
       "      <td>0.000000</td>\n",
       "      <td>0.000000</td>\n",
       "      <td>0.000000</td>\n",
       "      <td>0.000000</td>\n",
       "      <td>0.377964</td>\n",
       "      <td>0.000000</td>\n",
       "    </tr>\n",
       "    <tr>\n",
       "      <th>2</th>\n",
       "      <td>0.000000</td>\n",
       "      <td>0.363987</td>\n",
       "      <td>0.000000</td>\n",
       "      <td>0.000000</td>\n",
       "      <td>0.000000</td>\n",
       "      <td>0.000000</td>\n",
       "      <td>0.000000</td>\n",
       "      <td>0.293662</td>\n",
       "      <td>0.363987</td>\n",
       "      <td>0.000000</td>\n",
       "      <td>...</td>\n",
       "      <td>0.243766</td>\n",
       "      <td>0.243766</td>\n",
       "      <td>0.363987</td>\n",
       "      <td>0.363987</td>\n",
       "      <td>0.000000</td>\n",
       "      <td>0.000000</td>\n",
       "      <td>0.000000</td>\n",
       "      <td>0.000000</td>\n",
       "      <td>0.000000</td>\n",
       "      <td>0.000000</td>\n",
       "    </tr>\n",
       "    <tr>\n",
       "      <th>3</th>\n",
       "      <td>0.256500</td>\n",
       "      <td>0.000000</td>\n",
       "      <td>0.000000</td>\n",
       "      <td>0.317925</td>\n",
       "      <td>0.000000</td>\n",
       "      <td>0.317925</td>\n",
       "      <td>0.000000</td>\n",
       "      <td>0.000000</td>\n",
       "      <td>0.000000</td>\n",
       "      <td>0.000000</td>\n",
       "      <td>...</td>\n",
       "      <td>0.425837</td>\n",
       "      <td>0.212918</td>\n",
       "      <td>0.000000</td>\n",
       "      <td>0.000000</td>\n",
       "      <td>0.000000</td>\n",
       "      <td>0.317925</td>\n",
       "      <td>0.000000</td>\n",
       "      <td>0.000000</td>\n",
       "      <td>0.000000</td>\n",
       "      <td>0.000000</td>\n",
       "    </tr>\n",
       "    <tr>\n",
       "      <th>4</th>\n",
       "      <td>0.000000</td>\n",
       "      <td>0.000000</td>\n",
       "      <td>0.000000</td>\n",
       "      <td>0.000000</td>\n",
       "      <td>0.000000</td>\n",
       "      <td>0.000000</td>\n",
       "      <td>0.000000</td>\n",
       "      <td>0.259704</td>\n",
       "      <td>0.000000</td>\n",
       "      <td>0.321896</td>\n",
       "      <td>...</td>\n",
       "      <td>0.000000</td>\n",
       "      <td>0.000000</td>\n",
       "      <td>0.000000</td>\n",
       "      <td>0.000000</td>\n",
       "      <td>0.321896</td>\n",
       "      <td>0.000000</td>\n",
       "      <td>0.321896</td>\n",
       "      <td>0.321896</td>\n",
       "      <td>0.000000</td>\n",
       "      <td>0.000000</td>\n",
       "    </tr>\n",
       "  </tbody>\n",
       "</table>\n",
       "<p>5 rows × 37 columns</p>\n",
       "</div>"
      ],
      "text/plain": [
       "    address   arrived  beautiful    before  birthday     check  delivered  \\\n",
       "0  0.266921  0.000000   0.000000  0.000000  0.000000  0.000000   0.330842   \n",
       "1  0.000000  0.000000   0.377964  0.000000  0.377964  0.000000   0.000000   \n",
       "2  0.000000  0.363987   0.000000  0.000000  0.000000  0.000000   0.000000   \n",
       "3  0.256500  0.000000   0.000000  0.317925  0.000000  0.317925   0.000000   \n",
       "4  0.000000  0.000000   0.000000  0.000000  0.000000  0.000000   0.000000   \n",
       "\n",
       "   delivery       due      fast  ...       the        to   traffic     truck  \\\n",
       "0  0.000000  0.000000  0.000000  ...  0.664706  0.221569  0.000000  0.000000   \n",
       "1  0.000000  0.000000  0.000000  ...  0.000000  0.000000  0.000000  0.000000   \n",
       "2  0.293662  0.363987  0.000000  ...  0.243766  0.243766  0.363987  0.363987   \n",
       "3  0.000000  0.000000  0.000000  ...  0.425837  0.212918  0.000000  0.000000   \n",
       "4  0.259704  0.000000  0.321896  ...  0.000000  0.000000  0.000000  0.000000   \n",
       "\n",
       "    variety        we      wide      with   wrapped     wrong  \n",
       "0  0.000000  0.000000  0.000000  0.000000  0.000000  0.330842  \n",
       "1  0.000000  0.000000  0.000000  0.000000  0.377964  0.000000  \n",
       "2  0.000000  0.000000  0.000000  0.000000  0.000000  0.000000  \n",
       "3  0.000000  0.317925  0.000000  0.000000  0.000000  0.000000  \n",
       "4  0.321896  0.000000  0.321896  0.321896  0.000000  0.000000  \n",
       "\n",
       "[5 rows x 37 columns]"
      ]
     },
     "execution_count": 8,
     "metadata": {},
     "output_type": "execute_result"
    }
   ],
   "source": [
    "df"
   ]
  },
  {
   "cell_type": "markdown",
   "id": "4d0a1226-7aed-41e7-b2df-46bf32fc9289",
   "metadata": {},
   "source": [
    "<b>Download the file spam_messages.csv from the link below:<b>\n",
    "\r",
    "https://mitu.co.in/dataset/\n",
    "\n",
    "t<b>\r\n",
    "This file contains the collection of spam and not spam (ham) messages received in\r\n",
    "the mail b<b>\n",
    "o<b>x.\r\n",
    "Perform the following operations on<b>\n",
    " it:\r\n",
    "1. Read the file\r\n",
    "2. Seperate input and output data\r\n",
    "3. Explore the output data\r\n",
    "4. Prepare and vectorize the data\r\n",
    "5. Cross validate the data\r\n",
    "6. Build the Decision Tree model for classification\r\n",
    "7. Evaluate the performance of algorithm\r\n",
    "8. Download the file sample.csv which contains the unknown mails. Predict the\r\n",
    "category of these mails."
   ]
  },
  {
   "cell_type": "markdown",
   "id": "ebe2e8df-e5c3-446a-9ca9-8769d0329b6b",
   "metadata": {},
   "source": [
    "1. Read the file"
   ]
  },
  {
   "cell_type": "code",
   "execution_count": 9,
   "id": "6181af9f-6a38-40ee-b7c0-41adbdf3be20",
   "metadata": {},
   "outputs": [],
   "source": [
    "import pandas as pd\n",
    "\n",
    "import seaborn as sns\n",
    "\n",
    "import matplotlib.pyplot as plt"
   ]
  },
  {
   "cell_type": "code",
   "execution_count": 10,
   "id": "ba777e84-8c45-4222-99b8-7e440f66f977",
   "metadata": {},
   "outputs": [],
   "source": [
    "df = pd.read_csv('spam_messages.csv')"
   ]
  },
  {
   "cell_type": "markdown",
   "id": "5492e814-c19c-416c-8483-fa8fe017eaff",
   "metadata": {},
   "source": [
    "2. Seperate input and output data"
   ]
  },
  {
   "cell_type": "code",
   "execution_count": 11,
   "id": "abbd91b7-38c9-4ce9-9751-c0995735adb8",
   "metadata": {},
   "outputs": [
    {
     "data": {
      "text/plain": [
       "Index(['Category', 'Message'], dtype='object')"
      ]
     },
     "execution_count": 11,
     "metadata": {},
     "output_type": "execute_result"
    }
   ],
   "source": [
    "df.columns"
   ]
  },
  {
   "cell_type": "code",
   "execution_count": 12,
   "id": "7b166dea-6ded-458d-8931-55a52c76e06d",
   "metadata": {},
   "outputs": [],
   "source": [
    "features = df['Message'] #Input data\n",
    "\n",
    "label = df['Category']  #Output data\n",
    "\n",
    "x = features\n",
    "y = label"
   ]
  },
  {
   "cell_type": "code",
   "execution_count": 13,
   "id": "1d98a3e1-0bb5-4fb7-a7e3-f10b31bba4b4",
   "metadata": {},
   "outputs": [
    {
     "data": {
      "text/plain": [
       "0    Go until jurong point, crazy.. Available only ...\n",
       "1                        Ok lar... Joking wif u oni...\n",
       "2    Free entry in 2 a wkly comp to win FA Cup fina...\n",
       "3    U dun say so early hor... U c already then say...\n",
       "4    Nah I don't think he goes to usf, he lives aro...\n",
       "Name: Message, dtype: object"
      ]
     },
     "execution_count": 13,
     "metadata": {},
     "output_type": "execute_result"
    }
   ],
   "source": [
    "features.head()"
   ]
  },
  {
   "cell_type": "code",
   "execution_count": 14,
   "id": "4f385ae5-1340-4b1e-a8e7-2cf221035bf2",
   "metadata": {},
   "outputs": [
    {
     "data": {
      "text/plain": [
       "0        ham\n",
       "1        ham\n",
       "2       spam\n",
       "3        ham\n",
       "4        ham\n",
       "        ... \n",
       "5567    spam\n",
       "5568     ham\n",
       "5569     ham\n",
       "5570     ham\n",
       "5571     ham\n",
       "Name: Category, Length: 5572, dtype: object"
      ]
     },
     "execution_count": 14,
     "metadata": {},
     "output_type": "execute_result"
    }
   ],
   "source": [
    "label"
   ]
  },
  {
   "cell_type": "code",
   "execution_count": 15,
   "id": "bde03c21-8e7e-4c85-b0bc-d7e05f9afdaa",
   "metadata": {},
   "outputs": [
    {
     "data": {
      "text/plain": [
       "<Axes: xlabel='Category', ylabel='count'>"
      ]
     },
     "execution_count": 15,
     "metadata": {},
     "output_type": "execute_result"
    },
    {
     "data": {
      "image/png": "[encoded data removed]",
      "text/plain": [
       "<Figure size 640x480 with 1 Axes>"
      ]
     },
     "metadata": {},
     "output_type": "display_data"
    }
   ],
   "source": [
    "sns.countplot(x=label)"
   ]
  },
  {
   "cell_type": "code",
   "execution_count": 16,
   "id": "4e994539-a0fe-463a-9255-a6b22ea64232",
   "metadata": {},
   "outputs": [
    {
     "data": {
      "text/plain": [
       "Category\n",
       "ham     4825\n",
       "spam     747\n",
       "Name: count, dtype: int64"
      ]
     },
     "execution_count": 16,
     "metadata": {},
     "output_type": "execute_result"
    }
   ],
   "source": [
    "label.value_counts()"
   ]
  },
  {
   "cell_type": "code",
   "execution_count": 17,
   "id": "44625074-f48e-4ca5-b3d3-7d75284ecab3",
   "metadata": {},
   "outputs": [
    {
     "data": {
      "image/png": "[encoded data removed]",
      "text/plain": [
       "<Figure size 640x480 with 1 Axes>"
      ]
     },
     "metadata": {},
     "output_type": "display_data"
    }
   ],
   "source": [
    "plt.pie(label.value_counts(), labels=label.value_counts().index, autopct='%2.2f%%');"
   ]
  },
  {
   "cell_type": "markdown",
   "id": "9b25050d-666a-4943-a84a-2066795a18f6",
   "metadata": {},
   "source": [
    "3. Explore the output data"
   ]
  },
  {
   "cell_type": "code",
   "execution_count": 18,
   "id": "3001deee-badc-4a35-b5f9-1506c0595f9f",
   "metadata": {},
   "outputs": [
    {
     "name": "stdout",
     "output_type": "stream",
     "text": [
      "Category\n",
      "ham     4825\n",
      "spam     747\n",
      "Name: count, dtype: int64\n"
     ]
    }
   ],
   "source": [
    "print(y.value_counts())"
   ]
  },
  {
   "cell_type": "markdown",
   "id": "050537cb-a260-4fbc-894e-823de9bbd21b",
   "metadata": {},
   "source": [
    "4. Prepare and vectorize the data"
   ]
  },
  {
   "cell_type": "code",
   "execution_count": 19,
   "id": "247395e0-ed21-4a0a-8916-5ba5969e87b9",
   "metadata": {},
   "outputs": [],
   "source": [
    "from nltk.tokenize import word_tokenize\n",
    "\n",
    "from nltk.corpus import stopwords\n",
    "\n",
    "from nltk.stem import PorterStemmer"
   ]
  },
  {
   "cell_type": "code",
   "execution_count": 20,
   "id": "c84c8d3a-6220-4ab2-ba2a-32fb89222e20",
   "metadata": {},
   "outputs": [],
   "source": [
    "sent = 'Hello friends! Let us work on our third assignment of the advanced course in Python Programming.'"
   ]
  },
  {
   "cell_type": "code",
   "execution_count": 21,
   "id": "c12be090-9858-4bb5-afc2-9fea783ee46b",
   "metadata": {},
   "outputs": [
    {
     "data": {
      "text/plain": [
       "['i',\n",
       " 'me',\n",
       " 'my',\n",
       " 'myself',\n",
       " 'we',\n",
       " 'our',\n",
       " 'ours',\n",
       " 'ourselves',\n",
       " 'you',\n",
       " \"you're\",\n",
       " \"you've\",\n",
       " \"you'll\",\n",
       " \"you'd\",\n",
       " 'your',\n",
       " 'yours',\n",
       " 'yourself',\n",
       " 'yourselves',\n",
       " 'he',\n",
       " 'him',\n",
       " 'his',\n",
       " 'himself',\n",
       " 'she',\n",
       " \"she's\",\n",
       " 'her',\n",
       " 'hers',\n",
       " 'herself',\n",
       " 'it',\n",
       " \"it's\",\n",
       " 'its',\n",
       " 'itself',\n",
       " 'they',\n",
       " 'them',\n",
       " 'their',\n",
       " 'theirs',\n",
       " 'themselves',\n",
       " 'what',\n",
       " 'which',\n",
       " 'who',\n",
       " 'whom',\n",
       " 'this',\n",
       " 'that',\n",
       " \"that'll\",\n",
       " 'these',\n",
       " 'those',\n",
       " 'am',\n",
       " 'is',\n",
       " 'are',\n",
       " 'was',\n",
       " 'were',\n",
       " 'be',\n",
       " 'been',\n",
       " 'being',\n",
       " 'have',\n",
       " 'has',\n",
       " 'had',\n",
       " 'having',\n",
       " 'do',\n",
       " 'does',\n",
       " 'did',\n",
       " 'doing',\n",
       " 'a',\n",
       " 'an',\n",
       " 'the',\n",
       " 'and',\n",
       " 'but',\n",
       " 'if',\n",
       " 'or',\n",
       " 'because',\n",
       " 'as',\n",
       " 'until',\n",
       " 'while',\n",
       " 'of',\n",
       " 'at',\n",
       " 'by',\n",
       " 'for',\n",
       " 'with',\n",
       " 'about',\n",
       " 'against',\n",
       " 'between',\n",
       " 'into',\n",
       " 'through',\n",
       " 'during',\n",
       " 'before',\n",
       " 'after',\n",
       " 'above',\n",
       " 'below',\n",
       " 'to',\n",
       " 'from',\n",
       " 'up',\n",
       " 'down',\n",
       " 'in',\n",
       " 'out',\n",
       " 'on',\n",
       " 'off',\n",
       " 'over',\n",
       " 'under',\n",
       " 'again',\n",
       " 'further',\n",
       " 'then',\n",
       " 'once',\n",
       " 'here',\n",
       " 'there',\n",
       " 'when',\n",
       " 'where',\n",
       " 'why',\n",
       " 'how',\n",
       " 'all',\n",
       " 'any',\n",
       " 'both',\n",
       " 'each',\n",
       " 'few',\n",
       " 'more',\n",
       " 'most',\n",
       " 'other',\n",
       " 'some',\n",
       " 'such',\n",
       " 'no',\n",
       " 'nor',\n",
       " 'not',\n",
       " 'only',\n",
       " 'own',\n",
       " 'same',\n",
       " 'so',\n",
       " 'than',\n",
       " 'too',\n",
       " 'very',\n",
       " 's',\n",
       " 't',\n",
       " 'can',\n",
       " 'will',\n",
       " 'just',\n",
       " 'don',\n",
       " \"don't\",\n",
       " 'should',\n",
       " \"should've\",\n",
       " 'now',\n",
       " 'd',\n",
       " 'll',\n",
       " 'm',\n",
       " 'o',\n",
       " 're',\n",
       " 've',\n",
       " 'y',\n",
       " 'ain',\n",
       " 'aren',\n",
       " \"aren't\",\n",
       " 'couldn',\n",
       " \"couldn't\",\n",
       " 'didn',\n",
       " \"didn't\",\n",
       " 'doesn',\n",
       " \"doesn't\",\n",
       " 'hadn',\n",
       " \"hadn't\",\n",
       " 'hasn',\n",
       " \"hasn't\",\n",
       " 'haven',\n",
       " \"haven't\",\n",
       " 'isn',\n",
       " \"isn't\",\n",
       " 'ma',\n",
       " 'mightn',\n",
       " \"mightn't\",\n",
       " 'mustn',\n",
       " \"mustn't\",\n",
       " 'needn',\n",
       " \"needn't\",\n",
       " 'shan',\n",
       " \"shan't\",\n",
       " 'shouldn',\n",
       " \"shouldn't\",\n",
       " 'wasn',\n",
       " \"wasn't\",\n",
       " 'weren',\n",
       " \"weren't\",\n",
       " 'won',\n",
       " \"won't\",\n",
       " 'wouldn',\n",
       " \"wouldn't\"]"
      ]
     },
     "execution_count": 21,
     "metadata": {},
     "output_type": "execute_result"
    }
   ],
   "source": [
    "swords = stopwords.words('english')\n",
    "swords"
   ]
  },
  {
   "cell_type": "code",
   "execution_count": 22,
   "id": "4a28af69-dce5-4969-85b9-a1ad97004431",
   "metadata": {},
   "outputs": [],
   "source": [
    "ps = PorterStemmer()"
   ]
  },
  {
   "cell_type": "code",
   "execution_count": 23,
   "id": "bc7ebf9f-7d02-42b2-bffd-f7d8bf406492",
   "metadata": {},
   "outputs": [],
   "source": [
    "def clean_text(sent):\n",
    "    tokens1 = word_tokenize(sent)\n",
    "    tokens2 = [x.lower() for x in tokens1 if x.isalpha()]\n",
    "    tokens3 = [x for x in tokens2 if x not in swords]\n",
    "    tokens4 = [ps.stem(x) for x in tokens3]\n",
    "    return tokens4"
   ]
  },
  {
   "cell_type": "code",
   "execution_count": 24,
   "id": "44337af6-2b97-445e-a587-7ceba866e694",
   "metadata": {},
   "outputs": [
    {
     "data": {
      "text/plain": [
       "['hello',\n",
       " 'friend',\n",
       " 'let',\n",
       " 'us',\n",
       " 'work',\n",
       " 'third',\n",
       " 'assign',\n",
       " 'advanc',\n",
       " 'cours',\n",
       " 'python',\n",
       " 'program']"
      ]
     },
     "execution_count": 24,
     "metadata": {},
     "output_type": "execute_result"
    }
   ],
   "source": [
    "clean_text(sent)"
   ]
  },
  {
   "cell_type": "code",
   "execution_count": 25,
   "id": "a6105f4a-c6c2-4670-9c79-74171823a7ad",
   "metadata": {},
   "outputs": [
    {
     "data": {
      "text/plain": [
       "'Then ü wait 4 me at bus stop aft ur lect lar. If i dun c ü then i go get my car then come back n pick ü.'"
      ]
     },
     "execution_count": 25,
     "metadata": {},
     "output_type": "execute_result"
    }
   ],
   "source": [
    "x[999]"
   ]
  },
  {
   "cell_type": "code",
   "execution_count": 26,
   "id": "95994e10-59c5-4d56-b9c7-42575eb60102",
   "metadata": {},
   "outputs": [
    {
     "data": {
      "text/plain": [
       "['ü',\n",
       " 'wait',\n",
       " 'bu',\n",
       " 'stop',\n",
       " 'aft',\n",
       " 'ur',\n",
       " 'lect',\n",
       " 'lar',\n",
       " 'dun',\n",
       " 'c',\n",
       " 'ü',\n",
       " 'go',\n",
       " 'get',\n",
       " 'car',\n",
       " 'come',\n",
       " 'back',\n",
       " 'n',\n",
       " 'pick',\n",
       " 'ü']"
      ]
     },
     "execution_count": 26,
     "metadata": {},
     "output_type": "execute_result"
    }
   ],
   "source": [
    "clean_text(x[999])"
   ]
  },
  {
   "cell_type": "code",
   "execution_count": 27,
   "id": "68f453f1-5b98-478a-aeb0-44375debeb3b",
   "metadata": {},
   "outputs": [],
   "source": [
    "from sklearn.feature_extraction.text import TfidfVectorizer\n",
    "\n",
    "tfidf = TfidfVectorizer(analyzer=clean_text)"
   ]
  },
  {
   "cell_type": "code",
   "execution_count": 28,
   "id": "ed85e213-abbe-4502-8c4a-8d6a60540235",
   "metadata": {},
   "outputs": [],
   "source": [
    "x_new = tfidf.fit_transform(x)"
   ]
  },
  {
   "cell_type": "code",
   "execution_count": 29,
   "id": "b4b43e81-3f37-43ad-9a6c-8cae28551e9a",
   "metadata": {},
   "outputs": [
    {
     "data": {
      "text/plain": [
       "(5572, 5926)"
      ]
     },
     "execution_count": 29,
     "metadata": {},
     "output_type": "execute_result"
    }
   ],
   "source": [
    "x_new.shape"
   ]
  },
  {
   "cell_type": "markdown",
   "id": "4a564cc6-24fe-4f19-9179-822cf88d6df4",
   "metadata": {},
   "source": [
    "5. Cross validate the data"
   ]
  },
  {
   "cell_type": "code",
   "execution_count": 30,
   "id": "b846d56a-8603-4f61-961c-aff093514c16",
   "metadata": {},
   "outputs": [],
   "source": [
    "from sklearn.model_selection import train_test_split"
   ]
  },
  {
   "cell_type": "code",
   "execution_count": 31,
   "id": "57a55b75-425e-4f09-bfae-94ee42dcf856",
   "metadata": {},
   "outputs": [],
   "source": [
    "x_train, x_test, y_train, y_test = train_test_split(x_new, label, random_state=0)"
   ]
  },
  {
   "cell_type": "code",
   "execution_count": 32,
   "id": "09ee2f1f-0673-4295-88b7-190e1d4c3fe6",
   "metadata": {},
   "outputs": [
    {
     "data": {
      "text/plain": [
       "(4179, 5926)"
      ]
     },
     "execution_count": 32,
     "metadata": {},
     "output_type": "execute_result"
    }
   ],
   "source": [
    "x_train.shape"
   ]
  },
  {
   "cell_type": "code",
   "execution_count": 33,
   "id": "0b49bb70-8353-45b6-9572-6d990dcb5c9f",
   "metadata": {},
   "outputs": [
    {
     "data": {
      "text/plain": [
       "(1393, 5926)"
      ]
     },
     "execution_count": 33,
     "metadata": {},
     "output_type": "execute_result"
    }
   ],
   "source": [
    "x_test.shape"
   ]
  },
  {
   "cell_type": "code",
   "execution_count": 34,
   "id": "ae846ab9-2008-443c-bede-e39731659119",
   "metadata": {},
   "outputs": [
    {
     "data": {
      "text/plain": [
       "(4179,)"
      ]
     },
     "execution_count": 34,
     "metadata": {},
     "output_type": "execute_result"
    }
   ],
   "source": [
    "y_train.shape"
   ]
  },
  {
   "cell_type": "code",
   "execution_count": 35,
   "id": "eb8881db-930e-402b-b8b3-8b5ea637fdca",
   "metadata": {},
   "outputs": [
    {
     "data": {
      "text/plain": [
       "(1393,)"
      ]
     },
     "execution_count": 35,
     "metadata": {},
     "output_type": "execute_result"
    }
   ],
   "source": [
    "y_test.shape"
   ]
  },
  {
   "cell_type": "code",
   "execution_count": 36,
   "id": "21a123b0-6881-47ef-a3bc-06890b95646e",
   "metadata": {},
   "outputs": [
    {
     "data": {
      "text/plain": [
       "<1x5926 sparse matrix of type '<class 'numpy.float64'>'\n",
       "\twith 4 stored elements in Compressed Sparse Row format>"
      ]
     },
     "execution_count": 36,
     "metadata": {},
     "output_type": "execute_result"
    }
   ],
   "source": [
    "x_train[111]"
   ]
  },
  {
   "cell_type": "code",
   "execution_count": 37,
   "id": "3cbb993b-c1b9-4e68-b704-4700e2f1361e",
   "metadata": {},
   "outputs": [
    {
     "data": {
      "text/plain": [
       "'ham'"
      ]
     },
     "execution_count": 37,
     "metadata": {},
     "output_type": "execute_result"
    }
   ],
   "source": [
    "y_train[111]"
   ]
  },
  {
   "cell_type": "markdown",
   "id": "327914b7-3a44-4498-8fb1-8fc01b228207",
   "metadata": {},
   "source": [
    "6. Build the Decision Tree model for classification"
   ]
  },
  {
   "cell_type": "code",
   "execution_count": 38,
   "id": "9273ca79-4c02-48e0-b7c7-4b9368b7320a",
   "metadata": {},
   "outputs": [],
   "source": [
    "from sklearn.tree import DecisionTreeClassifier"
   ]
  },
  {
   "cell_type": "code",
   "execution_count": 39,
   "id": "c879778b-7b25-424e-affe-ef07802ce5bf",
   "metadata": {},
   "outputs": [],
   "source": [
    "dt = DecisionTreeClassifier(random_state=0)"
   ]
  },
  {
   "cell_type": "code",
   "execution_count": 40,
   "id": "b4f4d4c8-3c42-475a-aeed-15ba3befe321",
   "metadata": {},
   "outputs": [
    {
     "data": {
      "text/html": [
       "<style>#sk-container-id-1 {color: black;background-color: white;}#sk-container-id-1 pre{padding: 0;}#sk-container-id-1 div.sk-toggleable {background-color: white;}#sk-container-id-1 label.sk-toggleable__label {cursor: pointer;display: block;width: 100%;margin-bottom: 0;padding: 0.3em;box-sizing: border-box;text-align: center;}#sk-container-id-1 label.sk-toggleable__label-arrow:before {content: \"▸\";float: left;margin-right: 0.25em;color: #696969;}#sk-container-id-1 label.sk-toggleable__label-arrow:hover:before {color: black;}#sk-container-id-1 div.sk-estimator:hover label.sk-toggleable__label-arrow:before {color: black;}#sk-container-id-1 div.sk-toggleable__content {max-height: 0;max-width: 0;overflow: hidden;text-align: left;background-color: #f0f8ff;}#sk-container-id-1 div.sk-toggleable__content pre {margin: 0.2em;color: black;border-radius: 0.25em;background-color: #f0f8ff;}#sk-container-id-1 input.sk-toggleable__control:checked~div.sk-toggleable__content {max-height: 200px;max-width: 100%;overflow: auto;}#sk-container-id-1 input.sk-toggleable__control:checked~label.sk-toggleable__label-arrow:before {content: \"▾\";}#sk-container-id-1 div.sk-estimator input.sk-toggleable__control:checked~label.sk-toggleable__label {background-color: #d4ebff;}#sk-container-id-1 div.sk-label input.sk-toggleable__control:checked~label.sk-toggleable__label {background-color: #d4ebff;}#sk-container-id-1 input.sk-hidden--visually {border: 0;clip: rect(1px 1px 1px 1px);clip: rect(1px, 1px, 1px, 1px);height: 1px;margin: -1px;overflow: hidden;padding: 0;position: absolute;width: 1px;}#sk-container-id-1 div.sk-estimator {font-family: monospace;background-color: #f0f8ff;border: 1px dotted black;border-radius: 0.25em;box-sizing: border-box;margin-bottom: 0.5em;}#sk-container-id-1 div.sk-estimator:hover {background-color: #d4ebff;}#sk-container-id-1 div.sk-parallel-item::after {content: \"\";width: 100%;border-bottom: 1px solid gray;flex-grow: 1;}#sk-container-id-1 div.sk-label:hover label.sk-toggleable__label {background-color: #d4ebff;}#sk-container-id-1 div.sk-serial::before {content: \"\";position: absolute;border-left: 1px solid gray;box-sizing: border-box;top: 0;bottom: 0;left: 50%;z-index: 0;}#sk-container-id-1 div.sk-serial {display: flex;flex-direction: column;align-items: center;background-color: white;padding-right: 0.2em;padding-left: 0.2em;position: relative;}#sk-container-id-1 div.sk-item {position: relative;z-index: 1;}#sk-container-id-1 div.sk-parallel {display: flex;align-items: stretch;justify-content: center;background-color: white;position: relative;}#sk-container-id-1 div.sk-item::before, #sk-container-id-1 div.sk-parallel-item::before {content: \"\";position: absolute;border-left: 1px solid gray;box-sizing: border-box;top: 0;bottom: 0;left: 50%;z-index: -1;}#sk-container-id-1 div.sk-parallel-item {display: flex;flex-direction: column;z-index: 1;position: relative;background-color: white;}#sk-container-id-1 div.sk-parallel-item:first-child::after {align-self: flex-end;width: 50%;}#sk-container-id-1 div.sk-parallel-item:last-child::after {align-self: flex-start;width: 50%;}#sk-container-id-1 div.sk-parallel-item:only-child::after {width: 0;}#sk-container-id-1 div.sk-dashed-wrapped {border: 1px dashed gray;margin: 0 0.4em 0.5em 0.4em;box-sizing: border-box;padding-bottom: 0.4em;background-color: white;}#sk-container-id-1 div.sk-label label {font-family: monospace;font-weight: bold;display: inline-block;line-height: 1.2em;}#sk-container-id-1 div.sk-label-container {text-align: center;}#sk-container-id-1 div.sk-container {/* jupyter's `normalize.less` sets `[hidden] { display: none; }` but bootstrap.min.css set `[hidden] { display: none !important; }` so we also need the `!important` here to be able to override the default hidden behavior on the sphinx rendered scikit-learn.org. See: https://github.com/scikit-learn/scikit-learn/issues/21755 */display: inline-block !important;position: relative;}#sk-container-id-1 div.sk-text-repr-fallback {display: none;}</style><div id=\"sk-container-id-1\" class=\"sk-top-container\"><div class=\"sk-text-repr-fallback\"><pre>DecisionTreeClassifier(random_state=0)</pre><b>In a Jupyter environment, please rerun this cell to show the HTML representation or trust the notebook. <br />On GitHub, the HTML representation is unable to render, please try loading this page with nbviewer.org.</b></div><div class=\"sk-container\" hidden><div class=\"sk-item\"><div class=\"sk-estimator sk-toggleable\"><input class=\"sk-toggleable__control sk-hidden--visually\" id=\"sk-estimator-id-1\" type=\"checkbox\" checked><label for=\"sk-estimator-id-1\" class=\"sk-toggleable__label sk-toggleable__label-arrow\">DecisionTreeClassifier</label><div class=\"sk-toggleable__content\"><pre>DecisionTreeClassifier(random_state=0)</pre></div></div></div></div></div>"
      ],
      "text/plain": [
       "DecisionTreeClassifier(random_state=0)"
      ]
     },
     "execution_count": 40,
     "metadata": {},
     "output_type": "execute_result"
    }
   ],
   "source": [
    "dt.fit(x_train, y_train)"
   ]
  },
  {
   "cell_type": "code",
   "execution_count": 41,
   "id": "7e8a73ff-f6c0-4ca8-aab7-0bf3d4a127d8",
   "metadata": {},
   "outputs": [],
   "source": [
    "from sklearn.tree import plot_tree"
   ]
  },
  {
   "cell_type": "code",
   "execution_count": 42,
   "id": "ec5f1529-92fd-4494-a489-a7c7e1e89a1a",
   "metadata": {},
   "outputs": [
    {
     "data": {
      "image/png": "[encoded data removed]",
      "text/plain": [
       "<Figure size 1200x800 with 1 Axes>"
      ]
     },
     "metadata": {},
     "output_type": "display_data"
    }
   ],
   "source": [
    "plt.figure(figsize=(12,8))\n",
    "plot_tree(dt, fontsize=7);"
   ]
  },
  {
   "cell_type": "code",
   "execution_count": 43,
   "id": "e328a9d3-00dd-4bcc-aa19-acc72a698888",
   "metadata": {},
   "outputs": [
    {
     "data": {
      "text/plain": [
       "'airtel'"
      ]
     },
     "execution_count": 43,
     "metadata": {},
     "output_type": "execute_result"
    }
   ],
   "source": [
    "tfidf.get_feature_names_out()[123]"
   ]
  },
  {
   "cell_type": "code",
   "execution_count": 44,
   "id": "20f13a33-69ab-40b4-8e57-d03bbfae782d",
   "metadata": {},
   "outputs": [
    {
     "data": {
      "text/plain": [
       "'asther'"
      ]
     },
     "execution_count": 44,
     "metadata": {},
     "output_type": "execute_result"
    }
   ],
   "source": [
    "tfidf.get_feature_names_out()[321]"
   ]
  },
  {
   "cell_type": "markdown",
   "id": "a0bbe822-ee1e-4835-a373-63fb96ed4a7a",
   "metadata": {},
   "source": [
    "7. Evaluate the performance of algorithm"
   ]
  },
  {
   "cell_type": "code",
   "execution_count": 45,
   "id": "f2935bf8-8a1e-47bc-9061-18b63b93a637",
   "metadata": {},
   "outputs": [],
   "source": [
    "y_pred = dt.predict(x_test)"
   ]
  },
  {
   "cell_type": "code",
   "execution_count": 46,
   "id": "34bd7e3a-55df-4f00-8461-f6d77d85bfb5",
   "metadata": {},
   "outputs": [
    {
     "data": {
      "text/plain": [
       "array(['ham', 'spam', 'ham', ..., 'spam', 'ham', 'ham'], dtype=object)"
      ]
     },
     "execution_count": 46,
     "metadata": {},
     "output_type": "execute_result"
    }
   ],
   "source": [
    "y_pred"
   ]
  },
  {
   "cell_type": "code",
   "execution_count": 47,
   "id": "839b6571-2fa1-44cd-ad5e-e9cbef317742",
   "metadata": {},
   "outputs": [
    {
     "data": {
      "text/plain": [
       "1393"
      ]
     },
     "execution_count": 47,
     "metadata": {},
     "output_type": "execute_result"
    }
   ],
   "source": [
    "len(y_pred)"
   ]
  },
  {
   "cell_type": "code",
   "execution_count": 48,
   "id": "1c488e4c-f9ac-4e80-b79f-1a3bc4588ef7",
   "metadata": {},
   "outputs": [
    {
     "data": {
      "text/plain": [
       "4456     ham\n",
       "690     spam\n",
       "944      ham\n",
       "3768     ham\n",
       "1189     ham\n",
       "        ... \n",
       "1889     ham\n",
       "2250    spam\n",
       "2915    spam\n",
       "1282     ham\n",
       "1206     ham\n",
       "Name: Category, Length: 1393, dtype: object"
      ]
     },
     "execution_count": 48,
     "metadata": {},
     "output_type": "execute_result"
    }
   ],
   "source": [
    "y_test"
   ]
  },
  {
   "cell_type": "code",
   "execution_count": 49,
   "id": "5e6ab3fd-f025-45a3-93b6-fe3e769d2a25",
   "metadata": {},
   "outputs": [],
   "source": [
    "from sklearn.metrics import ConfusionMatrixDisplay"
   ]
  },
  {
   "cell_type": "code",
   "execution_count": 50,
   "id": "74d8ead6-77e8-41eb-b7ae-1f66f877a2ef",
   "metadata": {},
   "outputs": [
    {
     "data": {
      "image/png": "[encoded data removed]",
      "text/plain": [
       "<Figure size 640x480 with 2 Axes>"
      ]
     },
     "metadata": {},
     "output_type": "display_data"
    }
   ],
   "source": [
    "ConfusionMatrixDisplay.from_predictions(y_test, y_pred);"
   ]
  },
  {
   "cell_type": "code",
   "execution_count": 51,
   "id": "b259e046-7d9c-434f-b62f-4dcdae60b060",
   "metadata": {},
   "outputs": [
    {
     "data": {
      "text/plain": [
       "0.9569274946159368"
      ]
     },
     "execution_count": 51,
     "metadata": {},
     "output_type": "execute_result"
    }
   ],
   "source": [
    "(1171+162) / 1393"
   ]
  },
  {
   "cell_type": "code",
   "execution_count": 52,
   "id": "43ba9729-c155-459c-8408-616c4f379ac4",
   "metadata": {},
   "outputs": [
    {
     "data": {
      "text/plain": [
       "0.9693708609271523"
      ]
     },
     "execution_count": 52,
     "metadata": {},
     "output_type": "execute_result"
    }
   ],
   "source": [
    "1171 / 1208"
   ]
  },
  {
   "cell_type": "code",
   "execution_count": 53,
   "id": "7c7379d7-f376-4db7-9b51-d526efd989c7",
   "metadata": {},
   "outputs": [
    {
     "data": {
      "text/plain": [
       "0.8756756756756757"
      ]
     },
     "execution_count": 53,
     "metadata": {},
     "output_type": "execute_result"
    }
   ],
   "source": [
    "162 / 185"
   ]
  },
  {
   "cell_type": "markdown",
   "id": "75d1db01-ec78-4321-87e0-b681c72a414b",
   "metadata": {},
   "source": [
    "8. Download the file sample.csv which contains the unknown mails. Predict the\n",
    "category of these mails."
   ]
  },
  {
   "cell_type": "code",
   "execution_count": 54,
   "id": "dbf628ca-6078-4cc7-b9db-75ccc9d7a030",
   "metadata": {},
   "outputs": [],
   "source": [
    "f = open('sample.csv')"
   ]
  },
  {
   "cell_type": "code",
   "execution_count": 55,
   "id": "07df9f93-ea17-474c-9919-ac1e1c168f67",
   "metadata": {},
   "outputs": [],
   "source": [
    "emails = f.readlines()"
   ]
  },
  {
   "cell_type": "code",
   "execution_count": 56,
   "id": "d3801d8d-6970-4d80-a944-1495823c7886",
   "metadata": {},
   "outputs": [
    {
     "data": {
      "text/plain": [
       "['Ok lar i double check wif da hair dresser already he said wun cut v short. He said will cut until i look nice.,,\\n',\n",
       " 'As a valued customer, I am pleased to advise you that following recent review of your Mob No. you are awarded with a Â£1500 Bonus Prize, call 09066364589\\n',\n",
       " '\"Today is \"\"song dedicated day..\"\" Which song will u dedicate for me? Send this to all ur valuable frnds but first rply me...\",,\\n']"
      ]
     },
     "execution_count": 56,
     "metadata": {},
     "output_type": "execute_result"
    }
   ],
   "source": [
    "emails"
   ]
  },
  {
   "cell_type": "code",
   "execution_count": 57,
   "id": "593adaca-2364-43c5-a654-38d97bfb778a",
   "metadata": {},
   "outputs": [
    {
     "data": {
      "text/plain": [
       "<3x5926 sparse matrix of type '<class 'numpy.float64'>'\n",
       "\twith 38 stored elements in Compressed Sparse Row format>"
      ]
     },
     "execution_count": 57,
     "metadata": {},
     "output_type": "execute_result"
    }
   ],
   "source": [
    "tfidf.transform(emails)"
   ]
  },
  {
   "cell_type": "code",
   "execution_count": 58,
   "id": "fb0968b2-9339-444d-b797-31adbd45b9e2",
   "metadata": {},
   "outputs": [
    {
     "data": {
      "text/plain": [
       "array(['ham', 'spam', 'ham'], dtype=object)"
      ]
     },
     "execution_count": 58,
     "metadata": {},
     "output_type": "execute_result"
    }
   ],
   "source": [
    "dt.predict(tfidf.transform(emails))"
   ]
  },
  {
   "cell_type": "code",
   "execution_count": 59,
   "id": "b0f058fe-1f50-45c5-9d76-a439eaa1699b",
   "metadata": {},
   "outputs": [
    {
     "data": {
      "text/plain": [
       "3"
      ]
     },
     "execution_count": 59,
     "metadata": {},
     "output_type": "execute_result"
    }
   ],
   "source": [
    "len(emails)"
   ]
  },
  {
   "cell_type": "code",
   "execution_count": null,
   "id": "a2b93b68-b546-42ea-8b22-8d8c754274df",
   "metadata": {},
   "outputs": [],
   "source": []
  },
  {
   "cell_type": "code",
   "execution_count": null,
   "id": "7d929110-ff7e-4066-afc5-b47426919c68",
   "metadata": {},
   "outputs": [],
   "source": []
  }
 ],
 "metadata": {
  "kernelspec": {
   "display_name": "Python 3 (ipykernel)",
   "language": "python",
   "name": "python3"
  },
  "language_info": {
   "codemirror_mode": {
    "name": "ipython",
    "version": 3
   },
   "file_extension": ".py",
   "mimetype": "text/x-python",
   "name": "python",
   "nbconvert_exporter": "python",
   "pygments_lexer": "ipython3",
   "version": "3.11.7"
  }
 },
 "nbformat": 4,
 "nbformat_minor": 5
}
